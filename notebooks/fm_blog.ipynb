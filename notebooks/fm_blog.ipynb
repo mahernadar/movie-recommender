{
  "cells": [
    {
      "attachments": {},
      "cell_type": "markdown",
      "metadata": {},
      "source": [
        "Note that this notebook has been adapted from https://colab.research.google.com/drive/1I5S2vhcfumg1mlfNhH5MIDE4jbWZTcFW#scrollTo=X_R02ii268lQ\n",
        "\n",
        "the data used is the one for movielens 1m\n"
      ]
    },
    {
      "cell_type": "markdown",
      "metadata": {
        "id": "sdJrKUkVOCFc"
      },
      "source": [
        "\n",
        "\tAGE categories:\n",
        "  \n",
        "- 1:  \"Under 18\"\n",
        "- 18:  \"18-24\"\n",
        "- 25:  \"25-34\"\n",
        "- 35:  \"35-44\"\n",
        "- 45:  \"45-49\"\n",
        "- 50:  \"50-55\"\n",
        "- 56:  \"56+\""
      ]
    },
    {
      "cell_type": "code",
      "execution_count": 42,
      "metadata": {
        "id": "8E1RxEbJ66WP"
      },
      "outputs": [],
      "source": [
        "import pandas as pd\n",
        "import torch as torch\n",
        "import torch.utils.data as data\n",
        "import torch.nn as nn\n",
        "import torch.optim as optim\n",
        "import time\n",
        "import numpy as np\n",
        "from rich import inspect\n",
        "\n",
        "import math\n",
        "from torch.utils.data import Dataset\n",
        "import itertools\n",
        "import torch.nn.functional as F\n",
        "import joblib"
      ]
    },
    {
      "cell_type": "code",
      "execution_count": 2,
      "metadata": {
        "id": "X_R02ii268lQ"
      },
      "outputs": [
        {
          "data": {
            "text/plain": [
              "'cpu'"
            ]
          },
          "execution_count": 2,
          "metadata": {},
          "output_type": "execute_result"
        }
      ],
      "source": [
        "# device = torch.device(\"mps\" if torch.backends.mps.is_available() else \"cpu\")\n",
        "device = \"cpu\"\n",
        "device"
      ]
    },
    {
      "cell_type": "code",
      "execution_count": 3,
      "metadata": {
        "id": "D3cGVzC9DCZm"
      },
      "outputs": [],
      "source": [
        "movies_df = pd.read_csv(\n",
        "    \"../data/ml-1m/movies.dat\",\n",
        "    sep=\"::\",\n",
        "    names=[\"movieId\", \"title\", \"genres\"],\n",
        "    encoding=\"latin-1\",\n",
        "    engine=\"python\",\n",
        ")\n",
        "movies_df[\"movieId_index\"] = movies_df[\"movieId\"].astype(\"category\").cat.codes"
      ]
    },
    {
      "cell_type": "code",
      "execution_count": 4,
      "metadata": {
        "id": "8YW4yj-83TlF"
      },
      "outputs": [
        {
          "data": {
            "text/html": [
              "<div>\n",
              "<style scoped>\n",
              "    .dataframe tbody tr th:only-of-type {\n",
              "        vertical-align: middle;\n",
              "    }\n",
              "\n",
              "    .dataframe tbody tr th {\n",
              "        vertical-align: top;\n",
              "    }\n",
              "\n",
              "    .dataframe thead th {\n",
              "        text-align: right;\n",
              "    }\n",
              "</style>\n",
              "<table border=\"1\" class=\"dataframe\">\n",
              "  <thead>\n",
              "    <tr style=\"text-align: right;\">\n",
              "      <th></th>\n",
              "      <th>movieId</th>\n",
              "      <th>title</th>\n",
              "      <th>genres</th>\n",
              "      <th>movieId_index</th>\n",
              "    </tr>\n",
              "  </thead>\n",
              "  <tbody>\n",
              "    <tr>\n",
              "      <th>0</th>\n",
              "      <td>1</td>\n",
              "      <td>Toy Story (1995)</td>\n",
              "      <td>Animation|Children's|Comedy</td>\n",
              "      <td>0</td>\n",
              "    </tr>\n",
              "    <tr>\n",
              "      <th>1</th>\n",
              "      <td>2</td>\n",
              "      <td>Jumanji (1995)</td>\n",
              "      <td>Adventure|Children's|Fantasy</td>\n",
              "      <td>1</td>\n",
              "    </tr>\n",
              "    <tr>\n",
              "      <th>2</th>\n",
              "      <td>3</td>\n",
              "      <td>Grumpier Old Men (1995)</td>\n",
              "      <td>Comedy|Romance</td>\n",
              "      <td>2</td>\n",
              "    </tr>\n",
              "    <tr>\n",
              "      <th>3</th>\n",
              "      <td>4</td>\n",
              "      <td>Waiting to Exhale (1995)</td>\n",
              "      <td>Comedy|Drama</td>\n",
              "      <td>3</td>\n",
              "    </tr>\n",
              "  </tbody>\n",
              "</table>\n",
              "</div>"
            ],
            "text/plain": [
              "   movieId                     title                        genres  \\\n",
              "0        1          Toy Story (1995)   Animation|Children's|Comedy   \n",
              "1        2            Jumanji (1995)  Adventure|Children's|Fantasy   \n",
              "2        3   Grumpier Old Men (1995)                Comedy|Romance   \n",
              "3        4  Waiting to Exhale (1995)                  Comedy|Drama   \n",
              "\n",
              "   movieId_index  \n",
              "0              0  \n",
              "1              1  \n",
              "2              2  \n",
              "3              3  "
            ]
          },
          "execution_count": 4,
          "metadata": {},
          "output_type": "execute_result"
        }
      ],
      "source": [
        "movies_df.head(4)"
      ]
    },
    {
      "cell_type": "code",
      "execution_count": 5,
      "metadata": {},
      "outputs": [
        {
          "data": {
            "text/plain": [
              "(count    3883.000000\n",
              " mean     1941.000000\n",
              " std      1121.069876\n",
              " min         0.000000\n",
              " 25%       970.500000\n",
              " 50%      1941.000000\n",
              " 75%      2911.500000\n",
              " max      3882.000000\n",
              " Name: movieId_index, dtype: float64,\n",
              " 3883)"
            ]
          },
          "execution_count": 5,
          "metadata": {},
          "output_type": "execute_result"
        }
      ],
      "source": [
        "movies_df.movieId_index.describe(), movies_df.movieId_index.nunique()"
      ]
    },
    {
      "cell_type": "code",
      "execution_count": 6,
      "metadata": {
        "id": "d_jyeazzMtv4"
      },
      "outputs": [
        {
          "data": {
            "text/plain": [
              "(3883, 4)"
            ]
          },
          "execution_count": 6,
          "metadata": {},
          "output_type": "execute_result"
        }
      ],
      "source": [
        "movies_df.shape"
      ]
    },
    {
      "cell_type": "code",
      "execution_count": 7,
      "metadata": {
        "id": "EGPJNuxpCgpD"
      },
      "outputs": [],
      "source": [
        "users_df = pd.read_csv(\n",
        "    \"../data/ml-1m/users.dat\",\n",
        "    sep=\"::\",\n",
        "    header=None,\n",
        "    names=[\"userId\", \"gender\", \"age\", \"occupation\", \"zipcode\"],\n",
        "    engine=\"python\",\n",
        ")\n",
        "users_df = users_df.drop(columns=[\"occupation\"])\n",
        "users_df[\"gender_index\"] = users_df[\"gender\"].astype(\"category\").cat.codes\n",
        "users_df[\"age_index\"] = users_df[\"age\"].astype(\"category\").cat.codes\n",
        "users_df[\"userId_index\"] = users_df[\"userId\"].astype(\"category\").cat.codes"
      ]
    },
    {
      "cell_type": "code",
      "execution_count": 8,
      "metadata": {
        "id": "zc3UwoGQ3kGu"
      },
      "outputs": [
        {
          "name": "stdout",
          "output_type": "stream",
          "text": [
            "(3883, 4)\n"
          ]
        },
        {
          "data": {
            "text/html": [
              "<div>\n",
              "<style scoped>\n",
              "    .dataframe tbody tr th:only-of-type {\n",
              "        vertical-align: middle;\n",
              "    }\n",
              "\n",
              "    .dataframe tbody tr th {\n",
              "        vertical-align: top;\n",
              "    }\n",
              "\n",
              "    .dataframe thead th {\n",
              "        text-align: right;\n",
              "    }\n",
              "</style>\n",
              "<table border=\"1\" class=\"dataframe\">\n",
              "  <thead>\n",
              "    <tr style=\"text-align: right;\">\n",
              "      <th></th>\n",
              "      <th>userId</th>\n",
              "      <th>gender</th>\n",
              "      <th>age</th>\n",
              "      <th>zipcode</th>\n",
              "      <th>gender_index</th>\n",
              "      <th>age_index</th>\n",
              "      <th>userId_index</th>\n",
              "    </tr>\n",
              "  </thead>\n",
              "  <tbody>\n",
              "    <tr>\n",
              "      <th>0</th>\n",
              "      <td>1</td>\n",
              "      <td>F</td>\n",
              "      <td>1</td>\n",
              "      <td>48067</td>\n",
              "      <td>0</td>\n",
              "      <td>0</td>\n",
              "      <td>0</td>\n",
              "    </tr>\n",
              "    <tr>\n",
              "      <th>1</th>\n",
              "      <td>2</td>\n",
              "      <td>M</td>\n",
              "      <td>56</td>\n",
              "      <td>70072</td>\n",
              "      <td>1</td>\n",
              "      <td>6</td>\n",
              "      <td>1</td>\n",
              "    </tr>\n",
              "    <tr>\n",
              "      <th>2</th>\n",
              "      <td>3</td>\n",
              "      <td>M</td>\n",
              "      <td>25</td>\n",
              "      <td>55117</td>\n",
              "      <td>1</td>\n",
              "      <td>2</td>\n",
              "      <td>2</td>\n",
              "    </tr>\n",
              "    <tr>\n",
              "      <th>3</th>\n",
              "      <td>4</td>\n",
              "      <td>M</td>\n",
              "      <td>45</td>\n",
              "      <td>02460</td>\n",
              "      <td>1</td>\n",
              "      <td>4</td>\n",
              "      <td>3</td>\n",
              "    </tr>\n",
              "    <tr>\n",
              "      <th>4</th>\n",
              "      <td>5</td>\n",
              "      <td>M</td>\n",
              "      <td>25</td>\n",
              "      <td>55455</td>\n",
              "      <td>1</td>\n",
              "      <td>2</td>\n",
              "      <td>4</td>\n",
              "    </tr>\n",
              "  </tbody>\n",
              "</table>\n",
              "</div>"
            ],
            "text/plain": [
              "   userId gender  age zipcode  gender_index  age_index  userId_index\n",
              "0       1      F    1   48067             0          0             0\n",
              "1       2      M   56   70072             1          6             1\n",
              "2       3      M   25   55117             1          2             2\n",
              "3       4      M   45   02460             1          4             3\n",
              "4       5      M   25   55455             1          2             4"
            ]
          },
          "execution_count": 8,
          "metadata": {},
          "output_type": "execute_result"
        }
      ],
      "source": [
        "print(movies_df.shape)\n",
        "users_df.head(5)"
      ]
    },
    {
      "cell_type": "code",
      "execution_count": 9,
      "metadata": {
        "id": "g3VdVhPohUge"
      },
      "outputs": [
        {
          "data": {
            "text/plain": [
              "25    2096\n",
              "35    1193\n",
              "18    1103\n",
              "45     550\n",
              "50     496\n",
              "56     380\n",
              "1      222\n",
              "Name: age, dtype: int64"
            ]
          },
          "execution_count": 9,
          "metadata": {},
          "output_type": "execute_result"
        }
      ],
      "source": [
        "users_df.age.value_counts()"
      ]
    },
    {
      "cell_type": "code",
      "execution_count": 10,
      "metadata": {
        "id": "U_qrLcb3DV5h"
      },
      "outputs": [
        {
          "data": {
            "text/html": [
              "<div>\n",
              "<style scoped>\n",
              "    .dataframe tbody tr th:only-of-type {\n",
              "        vertical-align: middle;\n",
              "    }\n",
              "\n",
              "    .dataframe tbody tr th {\n",
              "        vertical-align: top;\n",
              "    }\n",
              "\n",
              "    .dataframe thead th {\n",
              "        text-align: right;\n",
              "    }\n",
              "</style>\n",
              "<table border=\"1\" class=\"dataframe\">\n",
              "  <thead>\n",
              "    <tr style=\"text-align: right;\">\n",
              "      <th></th>\n",
              "      <th>userId</th>\n",
              "      <th>movieId</th>\n",
              "      <th>rating</th>\n",
              "      <th>time</th>\n",
              "    </tr>\n",
              "  </thead>\n",
              "  <tbody>\n",
              "    <tr>\n",
              "      <th>0</th>\n",
              "      <td>1</td>\n",
              "      <td>1193</td>\n",
              "      <td>5</td>\n",
              "      <td>978300760</td>\n",
              "    </tr>\n",
              "    <tr>\n",
              "      <th>1</th>\n",
              "      <td>1</td>\n",
              "      <td>661</td>\n",
              "      <td>3</td>\n",
              "      <td>978302109</td>\n",
              "    </tr>\n",
              "    <tr>\n",
              "      <th>2</th>\n",
              "      <td>1</td>\n",
              "      <td>914</td>\n",
              "      <td>3</td>\n",
              "      <td>978301968</td>\n",
              "    </tr>\n",
              "    <tr>\n",
              "      <th>3</th>\n",
              "      <td>1</td>\n",
              "      <td>3408</td>\n",
              "      <td>4</td>\n",
              "      <td>978300275</td>\n",
              "    </tr>\n",
              "    <tr>\n",
              "      <th>4</th>\n",
              "      <td>1</td>\n",
              "      <td>2355</td>\n",
              "      <td>5</td>\n",
              "      <td>978824291</td>\n",
              "    </tr>\n",
              "  </tbody>\n",
              "</table>\n",
              "</div>"
            ],
            "text/plain": [
              "   userId  movieId  rating       time\n",
              "0       1     1193       5  978300760\n",
              "1       1      661       3  978302109\n",
              "2       1      914       3  978301968\n",
              "3       1     3408       4  978300275\n",
              "4       1     2355       5  978824291"
            ]
          },
          "execution_count": 10,
          "metadata": {},
          "output_type": "execute_result"
        }
      ],
      "source": [
        "ratings = pd.read_csv(\n",
        "    \"../data/ml-1m/ratings.dat\",\n",
        "    sep=\"::\",\n",
        "    names=[\"userId\", \"movieId\", \"rating\", \"time\"],\n",
        "    engine=\"python\",\n",
        ")\n",
        "ratings.head()"
      ]
    },
    {
      "cell_type": "code",
      "execution_count": 11,
      "metadata": {},
      "outputs": [
        {
          "data": {
            "text/plain": [
              "(6040, 3706)"
            ]
          },
          "execution_count": 11,
          "metadata": {},
          "output_type": "execute_result"
        }
      ],
      "source": [
        "ratings.userId.nunique(), ratings.movieId.nunique()"
      ]
    },
    {
      "cell_type": "code",
      "execution_count": 12,
      "metadata": {},
      "outputs": [],
      "source": [
        "ratings = ratings.join(movies_df.set_index(\"movieId\"), on=\"movieId\")\n",
        "ratings = ratings.join(users_df.set_index(\"userId\"), on=\"userId\")"
      ]
    },
    {
      "cell_type": "code",
      "execution_count": 13,
      "metadata": {
        "id": "GrJH_H9R7ArT"
      },
      "outputs": [
        {
          "data": {
            "text/html": [
              "<div>\n",
              "<style scoped>\n",
              "    .dataframe tbody tr th:only-of-type {\n",
              "        vertical-align: middle;\n",
              "    }\n",
              "\n",
              "    .dataframe tbody tr th {\n",
              "        vertical-align: top;\n",
              "    }\n",
              "\n",
              "    .dataframe thead th {\n",
              "        text-align: right;\n",
              "    }\n",
              "</style>\n",
              "<table border=\"1\" class=\"dataframe\">\n",
              "  <thead>\n",
              "    <tr style=\"text-align: right;\">\n",
              "      <th></th>\n",
              "      <th>userId</th>\n",
              "      <th>movieId</th>\n",
              "      <th>rating</th>\n",
              "      <th>time</th>\n",
              "      <th>title</th>\n",
              "      <th>genres</th>\n",
              "      <th>movieId_index</th>\n",
              "      <th>gender</th>\n",
              "      <th>age</th>\n",
              "      <th>zipcode</th>\n",
              "      <th>gender_index</th>\n",
              "      <th>age_index</th>\n",
              "      <th>userId_index</th>\n",
              "    </tr>\n",
              "  </thead>\n",
              "  <tbody>\n",
              "    <tr>\n",
              "      <th>0</th>\n",
              "      <td>1</td>\n",
              "      <td>1193</td>\n",
              "      <td>5</td>\n",
              "      <td>978300760</td>\n",
              "      <td>One Flew Over the Cuckoo's Nest (1975)</td>\n",
              "      <td>Drama</td>\n",
              "      <td>1176</td>\n",
              "      <td>F</td>\n",
              "      <td>1</td>\n",
              "      <td>48067</td>\n",
              "      <td>0</td>\n",
              "      <td>0</td>\n",
              "      <td>0</td>\n",
              "    </tr>\n",
              "    <tr>\n",
              "      <th>1</th>\n",
              "      <td>1</td>\n",
              "      <td>661</td>\n",
              "      <td>3</td>\n",
              "      <td>978302109</td>\n",
              "      <td>James and the Giant Peach (1996)</td>\n",
              "      <td>Animation|Children's|Musical</td>\n",
              "      <td>655</td>\n",
              "      <td>F</td>\n",
              "      <td>1</td>\n",
              "      <td>48067</td>\n",
              "      <td>0</td>\n",
              "      <td>0</td>\n",
              "      <td>0</td>\n",
              "    </tr>\n",
              "    <tr>\n",
              "      <th>2</th>\n",
              "      <td>1</td>\n",
              "      <td>914</td>\n",
              "      <td>3</td>\n",
              "      <td>978301968</td>\n",
              "      <td>My Fair Lady (1964)</td>\n",
              "      <td>Musical|Romance</td>\n",
              "      <td>902</td>\n",
              "      <td>F</td>\n",
              "      <td>1</td>\n",
              "      <td>48067</td>\n",
              "      <td>0</td>\n",
              "      <td>0</td>\n",
              "      <td>0</td>\n",
              "    </tr>\n",
              "    <tr>\n",
              "      <th>3</th>\n",
              "      <td>1</td>\n",
              "      <td>3408</td>\n",
              "      <td>4</td>\n",
              "      <td>978300275</td>\n",
              "      <td>Erin Brockovich (2000)</td>\n",
              "      <td>Drama</td>\n",
              "      <td>3339</td>\n",
              "      <td>F</td>\n",
              "      <td>1</td>\n",
              "      <td>48067</td>\n",
              "      <td>0</td>\n",
              "      <td>0</td>\n",
              "      <td>0</td>\n",
              "    </tr>\n",
              "    <tr>\n",
              "      <th>4</th>\n",
              "      <td>1</td>\n",
              "      <td>2355</td>\n",
              "      <td>5</td>\n",
              "      <td>978824291</td>\n",
              "      <td>Bug's Life, A (1998)</td>\n",
              "      <td>Animation|Children's|Comedy</td>\n",
              "      <td>2286</td>\n",
              "      <td>F</td>\n",
              "      <td>1</td>\n",
              "      <td>48067</td>\n",
              "      <td>0</td>\n",
              "      <td>0</td>\n",
              "      <td>0</td>\n",
              "    </tr>\n",
              "  </tbody>\n",
              "</table>\n",
              "</div>"
            ],
            "text/plain": [
              "   userId  movieId  rating       time                                   title  \\\n",
              "0       1     1193       5  978300760  One Flew Over the Cuckoo's Nest (1975)   \n",
              "1       1      661       3  978302109        James and the Giant Peach (1996)   \n",
              "2       1      914       3  978301968                     My Fair Lady (1964)   \n",
              "3       1     3408       4  978300275                  Erin Brockovich (2000)   \n",
              "4       1     2355       5  978824291                    Bug's Life, A (1998)   \n",
              "\n",
              "                         genres  movieId_index gender  age zipcode  \\\n",
              "0                         Drama           1176      F    1   48067   \n",
              "1  Animation|Children's|Musical            655      F    1   48067   \n",
              "2               Musical|Romance            902      F    1   48067   \n",
              "3                         Drama           3339      F    1   48067   \n",
              "4   Animation|Children's|Comedy           2286      F    1   48067   \n",
              "\n",
              "   gender_index  age_index  userId_index  \n",
              "0             0          0             0  \n",
              "1             0          0             0  \n",
              "2             0          0             0  \n",
              "3             0          0             0  \n",
              "4             0          0             0  "
            ]
          },
          "execution_count": 13,
          "metadata": {},
          "output_type": "execute_result"
        }
      ],
      "source": [
        "ratings.head()"
      ]
    },
    {
      "cell_type": "code",
      "execution_count": 14,
      "metadata": {},
      "outputs": [
        {
          "data": {
            "text/plain": [
              "(3883, 3706)"
            ]
          },
          "execution_count": 14,
          "metadata": {},
          "output_type": "execute_result"
        }
      ],
      "source": [
        "ratings.movieId_index.max() + 1, ratings.movieId_index.nunique()"
      ]
    },
    {
      "cell_type": "code",
      "execution_count": 15,
      "metadata": {},
      "outputs": [
        {
          "data": {
            "text/plain": [
              "(6040, 6040)"
            ]
          },
          "execution_count": 15,
          "metadata": {},
          "output_type": "execute_result"
        }
      ],
      "source": [
        "ratings.userId_index.max() + 1, ratings.userId_index.nunique()"
      ]
    },
    {
      "cell_type": "code",
      "execution_count": 16,
      "metadata": {},
      "outputs": [
        {
          "data": {
            "text/plain": [
              "(7, 7)"
            ]
          },
          "execution_count": 16,
          "metadata": {},
          "output_type": "execute_result"
        }
      ],
      "source": [
        "ratings.age_index.max() + 1, ratings.age_index.nunique()"
      ]
    },
    {
      "cell_type": "code",
      "execution_count": 17,
      "metadata": {},
      "outputs": [
        {
          "data": {
            "text/plain": [
              "(2, 2)"
            ]
          },
          "execution_count": 17,
          "metadata": {},
          "output_type": "execute_result"
        }
      ],
      "source": [
        "ratings.gender_index.max() + 1, ratings.gender_index.nunique()"
      ]
    },
    {
      "cell_type": "code",
      "execution_count": 18,
      "metadata": {
        "id": "S5mrE20Km0jL"
      },
      "outputs": [],
      "source": [
        "feature_columns = [\n",
        "    \"userId_index\",\n",
        "    \"movieId_index\",\n",
        "    \"age_index\",\n",
        "    \"gender_index\",\n",
        "]"
      ]
    },
    {
      "cell_type": "code",
      "execution_count": 19,
      "metadata": {
        "id": "nBS3zsTb3-VQ"
      },
      "outputs": [
        {
          "name": "stdout",
          "output_type": "stream",
          "text": [
            " features sizes \n",
            " : {'userId_index': 6040, 'movieId_index': 3883, 'age_index': 7, 'gender_index': 2}\n",
            " features offsets \n",
            " : {'userId_index': 0, 'movieId_index': 6040, 'age_index': 9923, 'gender_index': 9930}\n"
          ]
        }
      ],
      "source": [
        "# This is the width of each feature: what is the max index that resides in the ratings df:\n",
        "features_sizes = {\n",
        "    \"userId_index\": ratings[\"userId_index\"].max() + 1,\n",
        "    \"movieId_index\": ratings[\"movieId_index\"].max() + 1,\n",
        "    \"age_index\": ratings[\"age_index\"].max() + 1,\n",
        "    \"gender_index\": ratings[\"gender_index\"].max() + 1,\n",
        "}\n",
        "\n",
        "print(f\" features sizes \\n : {features_sizes}\")\n",
        "\n",
        "# calculate offsets.\n",
        "# Each feature starts from the end of the last one.\n",
        "\n",
        "next_offset = 0\n",
        "features_offsets = {}\n",
        "for k, v in features_sizes.items():\n",
        "    features_offsets[k] = next_offset\n",
        "    next_offset += v\n",
        "\n",
        "print(f\" features offsets \\n : {features_offsets}\")"
      ]
    },
    {
      "attachments": {},
      "cell_type": "markdown",
      "metadata": {},
      "source": [
        "Using the following adjusted indices, we could filter for specific movie, user, gender and age-group embedding:"
      ]
    },
    {
      "cell_type": "code",
      "execution_count": 20,
      "metadata": {
        "id": "MvA1myT1Dylx"
      },
      "outputs": [
        {
          "name": "stdout",
          "output_type": "stream",
          "text": [
            "\n",
            " userId_index\n",
            "before 0 6039\n",
            "after 0 6039\n",
            "\n",
            " movieId_index\n",
            "before 0 3882\n",
            "after 6040 9922\n",
            "\n",
            " age_index\n",
            "before 0 6\n",
            "after 9923 9929\n",
            "\n",
            " gender_index\n",
            "before 0 1\n",
            "after 9930 9931\n"
          ]
        }
      ],
      "source": [
        "# map all column indices to start from correct offset\n",
        "for column in feature_columns:\n",
        "    print(\"\\n\", column)\n",
        "    print(\"before\", ratings[column].min(), ratings[column].max())\n",
        "    ratings[column] = ratings[column].apply(\n",
        "        lambda c: c + features_offsets[column]\n",
        "    )\n",
        "    print(\"after\", ratings[column].min(), ratings[column].max())"
      ]
    },
    {
      "cell_type": "code",
      "execution_count": 21,
      "metadata": {
        "id": "KV9FE3aTEBCX"
      },
      "outputs": [
        {
          "data": {
            "text/html": [
              "<div>\n",
              "<style scoped>\n",
              "    .dataframe tbody tr th:only-of-type {\n",
              "        vertical-align: middle;\n",
              "    }\n",
              "\n",
              "    .dataframe tbody tr th {\n",
              "        vertical-align: top;\n",
              "    }\n",
              "\n",
              "    .dataframe thead th {\n",
              "        text-align: right;\n",
              "    }\n",
              "</style>\n",
              "<table border=\"1\" class=\"dataframe\">\n",
              "  <thead>\n",
              "    <tr style=\"text-align: right;\">\n",
              "      <th></th>\n",
              "      <th>userId_index</th>\n",
              "      <th>movieId_index</th>\n",
              "      <th>age_index</th>\n",
              "      <th>gender_index</th>\n",
              "      <th>rating</th>\n",
              "    </tr>\n",
              "  </thead>\n",
              "  <tbody>\n",
              "    <tr>\n",
              "      <th>0</th>\n",
              "      <td>0</td>\n",
              "      <td>7216</td>\n",
              "      <td>9923</td>\n",
              "      <td>9930</td>\n",
              "      <td>5</td>\n",
              "    </tr>\n",
              "    <tr>\n",
              "      <th>1</th>\n",
              "      <td>0</td>\n",
              "      <td>6695</td>\n",
              "      <td>9923</td>\n",
              "      <td>9930</td>\n",
              "      <td>3</td>\n",
              "    </tr>\n",
              "    <tr>\n",
              "      <th>2</th>\n",
              "      <td>0</td>\n",
              "      <td>6942</td>\n",
              "      <td>9923</td>\n",
              "      <td>9930</td>\n",
              "      <td>3</td>\n",
              "    </tr>\n",
              "    <tr>\n",
              "      <th>3</th>\n",
              "      <td>0</td>\n",
              "      <td>9379</td>\n",
              "      <td>9923</td>\n",
              "      <td>9930</td>\n",
              "      <td>4</td>\n",
              "    </tr>\n",
              "    <tr>\n",
              "      <th>4</th>\n",
              "      <td>0</td>\n",
              "      <td>8326</td>\n",
              "      <td>9923</td>\n",
              "      <td>9930</td>\n",
              "      <td>5</td>\n",
              "    </tr>\n",
              "  </tbody>\n",
              "</table>\n",
              "</div>"
            ],
            "text/plain": [
              "   userId_index  movieId_index  age_index  gender_index  rating\n",
              "0             0           7216       9923          9930       5\n",
              "1             0           6695       9923          9930       3\n",
              "2             0           6942       9923          9930       3\n",
              "3             0           9379       9923          9930       4\n",
              "4             0           8326       9923          9930       5"
            ]
          },
          "execution_count": 21,
          "metadata": {},
          "output_type": "execute_result"
        }
      ],
      "source": [
        "ratings[[*feature_columns, \"rating\"]].head(5)"
      ]
    },
    {
      "cell_type": "code",
      "execution_count": 22,
      "metadata": {
        "id": "NLpHQVEg7KWc"
      },
      "outputs": [],
      "source": [
        "data_x = torch.tensor(ratings[feature_columns].values)\n",
        "data_y = torch.tensor(ratings[\"rating\"].values).float()\n",
        "dataset = data.TensorDataset(data_x, data_y)"
      ]
    },
    {
      "cell_type": "code",
      "execution_count": 23,
      "metadata": {
        "id": "IoxK5qOW7L-1"
      },
      "outputs": [],
      "source": [
        "bs = 1024\n",
        "train_n = int(len(dataset) * 0.9)\n",
        "valid_n = len(dataset) - train_n\n",
        "splits = [train_n, valid_n]\n",
        "assert sum(splits) == len(dataset)\n",
        "trainset, devset = torch.utils.data.random_split(dataset, splits)\n",
        "train_dataloader = data.DataLoader(trainset, batch_size=bs, shuffle=True)\n",
        "dev_dataloader = data.DataLoader(devset, batch_size=bs, shuffle=True)"
      ]
    },
    {
      "cell_type": "code",
      "execution_count": 24,
      "metadata": {
        "id": "G3JD1ZND7NxP"
      },
      "outputs": [],
      "source": [
        "# copied from fastai:\n",
        "def trunc_normal_(x, mean=0.0, std=1.0):\n",
        "    \"Truncated normal initialization.\"\n",
        "    # From https://discuss.pytorch.org/t/implementing-truncated-normal-initializer/4778/12\n",
        "    return x.normal_().fmod_(2).mul_(std).add_(mean)"
      ]
    },
    {
      "cell_type": "code",
      "execution_count": 25,
      "metadata": {
        "id": "pVZqihbw7VBH"
      },
      "outputs": [],
      "source": [
        "class FMModel(nn.Module):\n",
        "    def __init__(self, n, k):\n",
        "        super().__init__()\n",
        "\n",
        "        self.w0 = nn.Parameter(torch.zeros(1))\n",
        "        self.bias = nn.Embedding(n, 1)\n",
        "        self.embeddings = nn.Embedding(n, k)\n",
        "\n",
        "        # See https://arxiv.org/abs/1711.09160\n",
        "        with torch.no_grad():\n",
        "            trunc_normal_(self.embeddings.weight, std=0.01)\n",
        "        with torch.no_grad():\n",
        "            trunc_normal_(self.bias.weight, std=0.01)\n",
        "\n",
        "    def forward(self, X):\n",
        "        emb = self.embeddings(X)\n",
        "        # calculate the interactions in complexity of O(nk) see lemma 3.1 from paper\n",
        "        pow_of_sum = emb.sum(dim=1).pow(2)\n",
        "        sum_of_pow = emb.pow(2).sum(dim=1)\n",
        "        pairwise = (pow_of_sum - sum_of_pow).sum(1) * 0.5\n",
        "        bias = self.bias(X).squeeze().sum(1)\n",
        "        return torch.sigmoid(self.w0 + bias + pairwise) * 5.5"
      ]
    },
    {
      "cell_type": "code",
      "execution_count": 26,
      "metadata": {
        "id": "B-sCgZnO0NqY"
      },
      "outputs": [],
      "source": [
        "# fit/test functions\n",
        "def fit(iterator, model, optimizer, criterion):\n",
        "    train_loss = 0\n",
        "    model.train()\n",
        "    for x, y in iterator:\n",
        "        optimizer.zero_grad()\n",
        "        y_hat = model(x.to(device))\n",
        "        loss = criterion(y_hat, y.to(device))\n",
        "        train_loss += loss.item() * x.shape[0]\n",
        "        loss.backward()\n",
        "        optimizer.step()\n",
        "    return train_loss / len(iterator.dataset)\n",
        "\n",
        "\n",
        "def test(iterator, model, criterion):\n",
        "    train_loss = 0\n",
        "    model.eval()\n",
        "    for x, y in iterator:\n",
        "        with torch.no_grad():\n",
        "            y_hat = model(x.to(device))\n",
        "        loss = criterion(y_hat, y.to(device))\n",
        "        train_loss += loss.item() * x.shape[0]\n",
        "    return train_loss / len(iterator.dataset)"
      ]
    },
    {
      "cell_type": "code",
      "execution_count": 27,
      "metadata": {
        "id": "-K0hBpn3032q"
      },
      "outputs": [],
      "source": [
        "def train_n_epochs(model, n, optimizer, scheduler):\n",
        "    criterion = nn.MSELoss().to(device)\n",
        "    for epoch in range(n):\n",
        "        start_time = time.time()\n",
        "        train_loss = fit(train_dataloader, model, optimizer, criterion)\n",
        "        valid_loss = test(dev_dataloader, model, criterion)\n",
        "        scheduler.step()\n",
        "        secs = int(time.time() - start_time)\n",
        "        print(f\"epoch {epoch}. time: {secs}[s]\")\n",
        "        print(f\"\\ttrain rmse: {(math.sqrt(train_loss)):.4f}\")\n",
        "        print(f\"\\tvalidation rmse: {(math.sqrt(valid_loss)):.4f}\")"
      ]
    },
    {
      "cell_type": "code",
      "execution_count": 28,
      "metadata": {},
      "outputs": [
        {
          "data": {
            "text/plain": [
              "tensor(9931)"
            ]
          },
          "execution_count": 28,
          "metadata": {},
          "output_type": "execute_result"
        }
      ],
      "source": [
        "data_x.max()"
      ]
    },
    {
      "cell_type": "code",
      "execution_count": 29,
      "metadata": {
        "id": "OxAfaaueMsnU"
      },
      "outputs": [
        {
          "name": "stdout",
          "output_type": "stream",
          "text": [
            "epoch 0. time: 6[s]\n",
            "\ttrain rmse: 0.9444\n",
            "\tvalidation rmse: 0.9152\n",
            "epoch 1. time: 6[s]\n",
            "\ttrain rmse: 0.9039\n",
            "\tvalidation rmse: 0.9038\n",
            "epoch 2. time: 6[s]\n",
            "\ttrain rmse: 0.8870\n",
            "\tvalidation rmse: 0.8907\n",
            "epoch 3. time: 6[s]\n",
            "\ttrain rmse: 0.8662\n",
            "\tvalidation rmse: 0.8768\n",
            "epoch 4. time: 6[s]\n",
            "\ttrain rmse: 0.8442\n",
            "\tvalidation rmse: 0.8660\n",
            "epoch 5. time: 6[s]\n",
            "\ttrain rmse: 0.8212\n",
            "\tvalidation rmse: 0.8569\n",
            "epoch 6. time: 6[s]\n",
            "\ttrain rmse: 0.7919\n",
            "\tvalidation rmse: 0.8499\n",
            "epoch 7. time: 6[s]\n",
            "\ttrain rmse: 0.7473\n",
            "\tvalidation rmse: 0.8469\n",
            "epoch 8. time: 6[s]\n",
            "\ttrain rmse: 0.7413\n",
            "\tvalidation rmse: 0.8459\n",
            "epoch 9. time: 6[s]\n",
            "\ttrain rmse: 0.7363\n",
            "\tvalidation rmse: 0.8454\n"
          ]
        }
      ],
      "source": [
        "# we use \" data_x.max() + 1 \" in order to get a different embedding for each of the indices (users, genders, movies and age)\n",
        "\n",
        "model = FMModel(data_x.max() + 1, 120).to(device)\n",
        "wd = 1e-5\n",
        "lr = 0.001\n",
        "epochs = 10\n",
        "optimizer = optim.Adam(model.parameters(), lr=lr, weight_decay=wd)\n",
        "scheduler = optim.lr_scheduler.MultiStepLR(optimizer, milestones=[7], gamma=0.1)\n",
        "criterion = nn.MSELoss().to(device)\n",
        "for epoch in range(epochs):\n",
        "    start_time = time.time()\n",
        "    train_loss = fit(train_dataloader, model, optimizer, criterion)\n",
        "    valid_loss = test(dev_dataloader, model, criterion)\n",
        "    scheduler.step()\n",
        "    secs = int(time.time() - start_time)\n",
        "    print(f\"epoch {epoch}. time: {secs}[s]\")\n",
        "    print(f\"\\ttrain rmse: {(math.sqrt(train_loss)):.4f}\")\n",
        "    print(f\"\\tvalidation rmse: {(math.sqrt(valid_loss)):.4f}\")"
      ]
    },
    {
      "cell_type": "code",
      "execution_count": 41,
      "metadata": {
        "id": "0pCGlQMwNxpF"
      },
      "outputs": [],
      "source": [
        "torch.save(model, \"../models/recommender_1_m.pt\")"
      ]
    },
    {
      "cell_type": "markdown",
      "metadata": {
        "id": "mmL4i9GZhzsg"
      },
      "source": [
        "## Understand Embeddings"
      ]
    },
    {
      "attachments": {},
      "cell_type": "markdown",
      "metadata": {},
      "source": [
        "### movies"
      ]
    },
    {
      "cell_type": "code",
      "execution_count": 31,
      "metadata": {
        "id": "4rLNv2g5cpsx"
      },
      "outputs": [],
      "source": [
        "movies = ratings.drop_duplicates(\"movieId_index\").copy()\n",
        "movie_embeddings = model.embeddings(\n",
        "    torch.tensor(movies[\"movieId_index\"].values, device=device).long()\n",
        ")\n",
        "movies[\"embedding\"] = movie_embeddings.tolist()\n",
        "movie_biases = model.bias(\n",
        "    torch.tensor(movies[\"movieId_index\"].values, device=device).long()\n",
        ")\n",
        "movies[\"bias\"] = movie_biases.cpu().detach().numpy()"
      ]
    },
    {
      "cell_type": "code",
      "execution_count": 32,
      "metadata": {},
      "outputs": [
        {
          "data": {
            "text/plain": [
              "(3706, 15)"
            ]
          },
          "execution_count": 32,
          "metadata": {},
          "output_type": "execute_result"
        }
      ],
      "source": [
        "movies.shape"
      ]
    },
    {
      "cell_type": "code",
      "execution_count": 34,
      "metadata": {
        "id": "xLKef0Y0cps5"
      },
      "outputs": [],
      "source": [
        "movies[[\"title\", \"movieId_index\", \"embedding\", \"bias\"]].to_csv('../data/movies_embeddings.csv', index=False)"
      ]
    },
    {
      "cell_type": "code",
      "execution_count": 35,
      "metadata": {},
      "outputs": [
        {
          "data": {
            "text/html": [
              "<div>\n",
              "<style scoped>\n",
              "    .dataframe tbody tr th:only-of-type {\n",
              "        vertical-align: middle;\n",
              "    }\n",
              "\n",
              "    .dataframe tbody tr th {\n",
              "        vertical-align: top;\n",
              "    }\n",
              "\n",
              "    .dataframe thead th {\n",
              "        text-align: right;\n",
              "    }\n",
              "</style>\n",
              "<table border=\"1\" class=\"dataframe\">\n",
              "  <thead>\n",
              "    <tr style=\"text-align: right;\">\n",
              "      <th></th>\n",
              "      <th>userId</th>\n",
              "      <th>movieId</th>\n",
              "      <th>rating</th>\n",
              "      <th>time</th>\n",
              "      <th>title</th>\n",
              "      <th>genres</th>\n",
              "      <th>movieId_index</th>\n",
              "      <th>gender</th>\n",
              "      <th>age</th>\n",
              "      <th>zipcode</th>\n",
              "      <th>gender_index</th>\n",
              "      <th>age_index</th>\n",
              "      <th>userId_index</th>\n",
              "      <th>embedding</th>\n",
              "      <th>bias</th>\n",
              "    </tr>\n",
              "  </thead>\n",
              "  <tbody>\n",
              "    <tr>\n",
              "      <th>44</th>\n",
              "      <td>1</td>\n",
              "      <td>260</td>\n",
              "      <td>4</td>\n",
              "      <td>978300760</td>\n",
              "      <td>Star Wars: Episode IV - A New Hope (1977)</td>\n",
              "      <td>Action|Adventure|Fantasy|Sci-Fi</td>\n",
              "      <td>6297</td>\n",
              "      <td>F</td>\n",
              "      <td>1</td>\n",
              "      <td>48067</td>\n",
              "      <td>9930</td>\n",
              "      <td>9923</td>\n",
              "      <td>0</td>\n",
              "      <td>[0.08743041008710861, 0.2234169840812683, 0.24...</td>\n",
              "      <td>0.335761</td>\n",
              "    </tr>\n",
              "    <tr>\n",
              "      <th>60</th>\n",
              "      <td>2</td>\n",
              "      <td>2628</td>\n",
              "      <td>3</td>\n",
              "      <td>978300051</td>\n",
              "      <td>Star Wars: Episode I - The Phantom Menace (1999)</td>\n",
              "      <td>Action|Adventure|Fantasy|Sci-Fi</td>\n",
              "      <td>8599</td>\n",
              "      <td>M</td>\n",
              "      <td>56</td>\n",
              "      <td>70072</td>\n",
              "      <td>9931</td>\n",
              "      <td>9929</td>\n",
              "      <td>1</td>\n",
              "      <td>[0.25688087940216064, 0.12146784365177155, 0.2...</td>\n",
              "      <td>0.020419</td>\n",
              "    </tr>\n",
              "    <tr>\n",
              "      <th>64</th>\n",
              "      <td>2</td>\n",
              "      <td>1210</td>\n",
              "      <td>4</td>\n",
              "      <td>978298151</td>\n",
              "      <td>Star Wars: Episode VI - Return of the Jedi (1983)</td>\n",
              "      <td>Action|Adventure|Romance|Sci-Fi|War</td>\n",
              "      <td>7232</td>\n",
              "      <td>M</td>\n",
              "      <td>56</td>\n",
              "      <td>70072</td>\n",
              "      <td>9931</td>\n",
              "      <td>9929</td>\n",
              "      <td>1</td>\n",
              "      <td>[0.17311148345470428, 0.14034566283226013, 0.3...</td>\n",
              "      <td>0.179256</td>\n",
              "    </tr>\n",
              "    <tr>\n",
              "      <th>127</th>\n",
              "      <td>2</td>\n",
              "      <td>1196</td>\n",
              "      <td>5</td>\n",
              "      <td>978298730</td>\n",
              "      <td>Star Wars: Episode V - The Empire Strikes Back...</td>\n",
              "      <td>Action|Adventure|Drama|Sci-Fi|War</td>\n",
              "      <td>7218</td>\n",
              "      <td>M</td>\n",
              "      <td>56</td>\n",
              "      <td>70072</td>\n",
              "      <td>9931</td>\n",
              "      <td>9929</td>\n",
              "      <td>1</td>\n",
              "      <td>[0.03483600541949272, 0.16636419296264648, 0.1...</td>\n",
              "      <td>0.249801</td>\n",
              "    </tr>\n",
              "  </tbody>\n",
              "</table>\n",
              "</div>"
            ],
            "text/plain": [
              "     userId  movieId  rating       time  \\\n",
              "44        1      260       4  978300760   \n",
              "60        2     2628       3  978300051   \n",
              "64        2     1210       4  978298151   \n",
              "127       2     1196       5  978298730   \n",
              "\n",
              "                                                 title  \\\n",
              "44           Star Wars: Episode IV - A New Hope (1977)   \n",
              "60    Star Wars: Episode I - The Phantom Menace (1999)   \n",
              "64   Star Wars: Episode VI - Return of the Jedi (1983)   \n",
              "127  Star Wars: Episode V - The Empire Strikes Back...   \n",
              "\n",
              "                                  genres  movieId_index gender  age zipcode  \\\n",
              "44       Action|Adventure|Fantasy|Sci-Fi           6297      F    1   48067   \n",
              "60       Action|Adventure|Fantasy|Sci-Fi           8599      M   56   70072   \n",
              "64   Action|Adventure|Romance|Sci-Fi|War           7232      M   56   70072   \n",
              "127    Action|Adventure|Drama|Sci-Fi|War           7218      M   56   70072   \n",
              "\n",
              "     gender_index  age_index  userId_index  \\\n",
              "44           9930       9923             0   \n",
              "60           9931       9929             1   \n",
              "64           9931       9929             1   \n",
              "127          9931       9929             1   \n",
              "\n",
              "                                             embedding      bias  \n",
              "44   [0.08743041008710861, 0.2234169840812683, 0.24...  0.335761  \n",
              "60   [0.25688087940216064, 0.12146784365177155, 0.2...  0.020419  \n",
              "64   [0.17311148345470428, 0.14034566283226013, 0.3...  0.179256  \n",
              "127  [0.03483600541949272, 0.16636419296264648, 0.1...  0.249801  "
            ]
          },
          "execution_count": 35,
          "metadata": {},
          "output_type": "execute_result"
        }
      ],
      "source": [
        "movies.query(\" title.str.lower().str.contains('star wars') \")"
      ]
    },
    {
      "cell_type": "code",
      "execution_count": 36,
      "metadata": {
        "id": "D_n0s0_ocptN"
      },
      "outputs": [
        {
          "data": {
            "text/plain": [
              "array(['Star Wars: Episode IV - A New Hope (1977)',\n",
              "       'Star Wars: Episode V - The Empire Strikes Back (1980)',\n",
              "       'Star Wars: Episode VI - Return of the Jedi (1983)',\n",
              "       'Raiders of the Lost Ark (1981)',\n",
              "       'Indiana Jones and the Last Crusade (1989)',\n",
              "       'Star Wars: Episode I - The Phantom Menace (1999)',\n",
              "       'Ghostbusters (1984)', 'Soft Toilet Seats (1999)',\n",
              "       'Star Trek: The Wrath of Khan (1982)', 'Batman (1989)'],\n",
              "      dtype=object)"
            ]
          },
          "execution_count": 36,
          "metadata": {},
          "output_type": "execute_result"
        }
      ],
      "source": [
        "star_wars_5_index = torch.tensor(6297, device=device)\n",
        "star_war_embeddings = model.embeddings(star_wars_5_index)\n",
        "cosine_similarities = torch.tensor(\n",
        "    [\n",
        "        F.cosine_similarity(star_war_embeddings, i, dim=0)\n",
        "        for i in movie_embeddings\n",
        "    ]\n",
        ")\n",
        "movies.iloc[cosine_similarities.argsort(descending=True).detach().numpy()][\n",
        "    \"title\"\n",
        "].values[:10]"
      ]
    },
    {
      "cell_type": "code",
      "execution_count": 37,
      "metadata": {
        "id": "on0YksxBcptT"
      },
      "outputs": [
        {
          "data": {
            "text/plain": [
              "['Toy Story (1995)',\n",
              " 'Toy Story 2 (1999)',\n",
              " 'Aladdin (1992)',\n",
              " \"Bug's Life, A (1998)\",\n",
              " 'Beauty and the Beast (1991)',\n",
              " 'Lion King, The (1994)',\n",
              " 'Little Mermaid, The (1989)',\n",
              " 'Big Combo, The (1955)',\n",
              " 'Tarzan (1999)',\n",
              " 'Big (1988)']"
            ]
          },
          "execution_count": 37,
          "metadata": {},
          "output_type": "execute_result"
        }
      ],
      "source": [
        "toy_story_index = torch.tensor(6040, device=device)\n",
        "toy_story_embeddings = model.embeddings(toy_story_index)\n",
        "cosine_similarities = torch.tensor(\n",
        "    [\n",
        "        F.cosine_similarity(toy_story_embeddings, i, dim=0)\n",
        "        for i in movie_embeddings\n",
        "    ]\n",
        ")\n",
        "[\n",
        "    i\n",
        "    for i in movies.iloc[\n",
        "        cosine_similarities.argsort(descending=True).detach().numpy()\n",
        "    ][\"title\"].values[:10]\n",
        "]"
      ]
    },
    {
      "attachments": {},
      "cell_type": "markdown",
      "metadata": {},
      "source": [
        "### genders"
      ]
    },
    {
      "cell_type": "code",
      "execution_count": 38,
      "metadata": {},
      "outputs": [],
      "source": [
        "genders = ratings.drop_duplicates(\"gender_index\").copy()\n",
        "\n",
        "gender_embeddings = model.embeddings(\n",
        "    torch.tensor(genders[\"gender_index\"].values, device=device).long()\n",
        ")\n",
        "genders[\"embedding\"] = gender_embeddings.tolist()\n",
        "genders[['gender', 'embedding']].to_csv('../data/genders_embeddings.csv', index=False)\n"
      ]
    },
    {
      "attachments": {},
      "cell_type": "markdown",
      "metadata": {},
      "source": [
        "### age-groups:"
      ]
    },
    {
      "cell_type": "code",
      "execution_count": 40,
      "metadata": {},
      "outputs": [
        {
          "data": {
            "text/html": [
              "<div>\n",
              "<style scoped>\n",
              "    .dataframe tbody tr th:only-of-type {\n",
              "        vertical-align: middle;\n",
              "    }\n",
              "\n",
              "    .dataframe tbody tr th {\n",
              "        vertical-align: top;\n",
              "    }\n",
              "\n",
              "    .dataframe thead th {\n",
              "        text-align: right;\n",
              "    }\n",
              "</style>\n",
              "<table border=\"1\" class=\"dataframe\">\n",
              "  <thead>\n",
              "    <tr style=\"text-align: right;\">\n",
              "      <th></th>\n",
              "      <th>age</th>\n",
              "      <th>age_index</th>\n",
              "    </tr>\n",
              "  </thead>\n",
              "  <tbody>\n",
              "    <tr>\n",
              "      <th>0</th>\n",
              "      <td>Under 18</td>\n",
              "      <td>9923</td>\n",
              "    </tr>\n",
              "    <tr>\n",
              "      <th>53</th>\n",
              "      <td>56+</td>\n",
              "      <td>9929</td>\n",
              "    </tr>\n",
              "    <tr>\n",
              "      <th>182</th>\n",
              "      <td>25-34</td>\n",
              "      <td>9925</td>\n",
              "    </tr>\n",
              "    <tr>\n",
              "      <th>233</th>\n",
              "      <td>45-49</td>\n",
              "      <td>9927</td>\n",
              "    </tr>\n",
              "    <tr>\n",
              "      <th>452</th>\n",
              "      <td>50-55</td>\n",
              "      <td>9928</td>\n",
              "    </tr>\n",
              "    <tr>\n",
              "      <th>523</th>\n",
              "      <td>35-44</td>\n",
              "      <td>9926</td>\n",
              "    </tr>\n",
              "    <tr>\n",
              "      <th>1940</th>\n",
              "      <td>18-24</td>\n",
              "      <td>9924</td>\n",
              "    </tr>\n",
              "  </tbody>\n",
              "</table>\n",
              "</div>"
            ],
            "text/plain": [
              "           age  age_index\n",
              "0     Under 18       9923\n",
              "53         56+       9929\n",
              "182      25-34       9925\n",
              "233      45-49       9927\n",
              "452      50-55       9928\n",
              "523      35-44       9926\n",
              "1940     18-24       9924"
            ]
          },
          "execution_count": 40,
          "metadata": {},
          "output_type": "execute_result"
        }
      ],
      "source": [
        "ages = ratings.drop_duplicates(\"age_index\").copy()\n",
        "\n",
        "age_embeddings = model.embeddings(\n",
        "    torch.tensor(ages[\"age_index\"].values, device=device).long()\n",
        ")\n",
        "ages[\"embedding\"] = age_embeddings.tolist()\n",
        "ages = ages[['age', 'age_index']]\n",
        "ages['age'] = ages['age'].replace(\n",
        "    {\n",
        "        1:  \"Under 18\",\n",
        "        18:  \"18-24\",\n",
        "        25:  \"25-34\",\n",
        "        35:  \"35-44\",\n",
        "        45:  \"45-49\",\n",
        "        50:  \"50-55\",\n",
        "        56:  \"56+\"\n",
        "    }\n",
        ")\n",
        "\n",
        "ages.to_csv('../data/ages_embeddings.csv', index=False)\n",
        "ages"
      ]
    },
    {
      "cell_type": "markdown",
      "metadata": {
        "id": "EwT_bTzAaFQS"
      },
      "source": [
        "## Recommending"
      ]
    },
    {
      "cell_type": "code",
      "execution_count": 44,
      "metadata": {
        "id": "TQaYIsPXcptb"
      },
      "outputs": [
        {
          "data": {
            "text/plain": [
              "['Being John Malkovich (1999)',\n",
              " 'American Beauty (1999)',\n",
              " 'Fargo (1996)',\n",
              " 'Dr. Strangelove or: How I Learned to Stop Worrying and Love the Bomb (1963)',\n",
              " 'Citizen Kane (1941)',\n",
              " 'Brazil (1985)',\n",
              " 'Magnolia (1999)',\n",
              " 'Run Lola Run (Lola rennt) (1998)',\n",
              " 'Croupier (1998)',\n",
              " 'Wrong Trousers, The (1993)']"
            ]
          },
          "execution_count": 44,
          "metadata": {},
          "output_type": "execute_result"
        }
      ],
      "source": [
        "man_embedding = model.embeddings(torch.tensor(9754, device=device))\n",
        "age18_25_embedding = model.embeddings(torch.tensor(9747, device=device))\n",
        "metadata_embedding = man_embedding + age18_25_embedding\n",
        "rankings = movie_biases.squeeze() + (metadata_embedding * movie_embeddings).sum(\n",
        "    1\n",
        ")\n",
        "[\n",
        "    i\n",
        "    for i in movies.iloc[rankings.argsort(descending=True).cpu()][\n",
        "        \"title\"\n",
        "    ].values\n",
        "][:10]"
      ]
    },
    {
      "cell_type": "code",
      "execution_count": 43,
      "metadata": {
        "id": "9F2k5Z8homRF"
      },
      "outputs": [
        {
          "data": {
            "text/plain": [
              "['Patch Adams (1998)',\n",
              " 'It Takes Two (1995)',\n",
              " 'Random Hearts (1999)',\n",
              " 'Death Wish V: The Face of Death (1994)',\n",
              " 'Jingle All the Way (1996)',\n",
              " 'Baby Geniuses (1999)',\n",
              " 'Jack Frost (1998)',\n",
              " 'Sister Act 2: Back in the Habit (1993)',\n",
              " 'All Dogs Go to Heaven 2 (1996)',\n",
              " \"Porky's II: The Next Day (1983)\"]"
            ]
          },
          "execution_count": 43,
          "metadata": {},
          "output_type": "execute_result"
        }
      ],
      "source": [
        "woman_embedding = model.embeddings(torch.tensor(9753, device=device))\n",
        "age50_56_embedding = model.embeddings(torch.tensor(9751, device=device))\n",
        "metadata_embedding = woman_embedding + age50_56_embedding\n",
        "rankings = movie_biases.squeeze() + (metadata_embedding * movie_embeddings).sum(\n",
        "    1\n",
        ")\n",
        "[\n",
        "    i\n",
        "    for i in movies.iloc[rankings.argsort(descending=True).cpu()][\n",
        "        \"title\"\n",
        "    ].values\n",
        "][:10]"
      ]
    },
    {
      "cell_type": "code",
      "execution_count": 45,
      "metadata": {},
      "outputs": [
        {
          "data": {
            "text/html": [
              "<pre style=\"white-space:pre;overflow-x:auto;line-height:normal;font-family:Menlo,'DejaVu Sans Mono',consolas,'Courier New',monospace\"><span style=\"color: #000080; text-decoration-color: #000080\">╭─ </span><span style=\"color: #800080; text-decoration-color: #800080; font-weight: bold\">FMModel</span><span style=\"color: #000080; text-decoration-color: #000080; font-weight: bold\">(</span><span style=\"color: #000080; text-decoration-color: #000080\">   </span><span style=\"color: #000080; text-decoration-color: #000080; font-weight: bold\">(</span><span style=\"color: #000080; text-decoration-color: #000080\">bias</span><span style=\"color: #000080; text-decoration-color: #000080; font-weight: bold\">)</span><span style=\"color: #000080; text-decoration-color: #000080\">: </span><span style=\"color: #800080; text-decoration-color: #800080; font-weight: bold\">Embedding</span><span style=\"color: #000080; text-decoration-color: #000080; font-weight: bold\">(</span><span style=\"color: #008080; text-decoration-color: #008080; font-weight: bold\">9932</span><span style=\"color: #000080; text-decoration-color: #000080\">, </span><span style=\"color: #008080; text-decoration-color: #008080; font-weight: bold\">1</span><span style=\"color: #000080; text-decoration-color: #000080; font-weight: bold\">)</span><span style=\"color: #000080; text-decoration-color: #000080\">   </span><span style=\"color: #000080; text-decoration-color: #000080; font-weight: bold\">(</span><span style=\"color: #000080; text-decoration-color: #000080\">embeddings</span><span style=\"color: #000080; text-decoration-color: #000080; font-weight: bold\">)</span><span style=\"color: #000080; text-decoration-color: #000080\">: </span><span style=\"color: #800080; text-decoration-color: #800080; font-weight: bold\">Embedding</span><span style=\"color: #000080; text-decoration-color: #000080; font-weight: bold\">(</span><span style=\"color: #008080; text-decoration-color: #008080; font-weight: bold\">9932</span><span style=\"color: #000080; text-decoration-color: #000080\">, </span><span style=\"color: #008080; text-decoration-color: #008080; font-weight: bold\">120</span><span style=\"color: #000080; text-decoration-color: #000080; font-weight: bold\">)</span><span style=\"color: #000080; text-decoration-color: #000080\"> </span><span style=\"color: #000080; text-decoration-color: #000080; font-weight: bold\">)</span><span style=\"color: #000080; text-decoration-color: #000080\"> ─╮</span>\n",
              "<span style=\"color: #000080; text-decoration-color: #000080\">│</span> <span style=\"color: #00ffff; text-decoration-color: #00ffff; font-style: italic\">def </span><span style=\"font-weight: bold\">(</span>*args, **kwargs<span style=\"font-weight: bold\">)</span>:                                                         <span style=\"color: #000080; text-decoration-color: #000080\">│</span>\n",
              "<span style=\"color: #000080; text-decoration-color: #000080\">│</span>                                                                                <span style=\"color: #000080; text-decoration-color: #000080\">│</span>\n",
              "<span style=\"color: #000080; text-decoration-color: #000080\">│</span> <span style=\"color: #808000; text-decoration-color: #808000; font-style: italic\">call_super_init</span> = <span style=\"color: #ff0000; text-decoration-color: #ff0000; font-style: italic\">False</span>                                                        <span style=\"color: #000080; text-decoration-color: #000080\">│</span>\n",
              "<span style=\"color: #000080; text-decoration-color: #000080\">│</span>    <span style=\"color: #808000; text-decoration-color: #808000; font-style: italic\">dump_patches</span> = <span style=\"color: #ff0000; text-decoration-color: #ff0000; font-style: italic\">False</span>                                                        <span style=\"color: #000080; text-decoration-color: #000080\">│</span>\n",
              "<span style=\"color: #000080; text-decoration-color: #000080\">│</span>   <span style=\"color: #808000; text-decoration-color: #808000; font-style: italic\">T_destination</span> = ~T_destination                                               <span style=\"color: #000080; text-decoration-color: #000080\">│</span>\n",
              "<span style=\"color: #000080; text-decoration-color: #000080\">│</span>        <span style=\"color: #808000; text-decoration-color: #808000; font-style: italic\">training</span> = <span style=\"color: #ff0000; text-decoration-color: #ff0000; font-style: italic\">False</span>                                                        <span style=\"color: #000080; text-decoration-color: #000080\">│</span>\n",
              "<span style=\"color: #000080; text-decoration-color: #000080\">│</span>              <span style=\"color: #808000; text-decoration-color: #808000; font-style: italic\">w0</span> = Parameter containing:                                        <span style=\"color: #000080; text-decoration-color: #000080\">│</span>\n",
              "<span style=\"color: #000080; text-decoration-color: #000080\">│</span>                   <span style=\"color: #800080; text-decoration-color: #800080; font-weight: bold\">tensor</span><span style=\"font-weight: bold\">([</span><span style=\"color: #008080; text-decoration-color: #008080; font-weight: bold\">0.0852</span><span style=\"font-weight: bold\">]</span>, <span style=\"color: #808000; text-decoration-color: #808000\">requires_grad</span>=<span style=\"color: #00ff00; text-decoration-color: #00ff00; font-style: italic\">True</span><span style=\"font-weight: bold\">)</span>                         <span style=\"color: #000080; text-decoration-color: #000080\">│</span>\n",
              "<span style=\"color: #000080; text-decoration-color: #000080\">╰────────────────────────────────────────────────────────────────────────────────╯</span>\n",
              "</pre>\n"
            ],
            "text/plain": [
              "\u001b[34m╭─\u001b[0m\u001b[34m \u001b[0m\u001b[1;35mFMModel\u001b[0m\u001b[1;34m(\u001b[0m\u001b[34m   \u001b[0m\u001b[1;34m(\u001b[0m\u001b[34mbias\u001b[0m\u001b[1;34m)\u001b[0m\u001b[34m: \u001b[0m\u001b[1;35mEmbedding\u001b[0m\u001b[1;34m(\u001b[0m\u001b[1;36m9932\u001b[0m\u001b[34m, \u001b[0m\u001b[1;36m1\u001b[0m\u001b[1;34m)\u001b[0m\u001b[34m   \u001b[0m\u001b[1;34m(\u001b[0m\u001b[34membeddings\u001b[0m\u001b[1;34m)\u001b[0m\u001b[34m: \u001b[0m\u001b[1;35mEmbedding\u001b[0m\u001b[1;34m(\u001b[0m\u001b[1;36m9932\u001b[0m\u001b[34m, \u001b[0m\u001b[1;36m120\u001b[0m\u001b[1;34m)\u001b[0m\u001b[34m \u001b[0m\u001b[1;34m)\u001b[0m\u001b[34m \u001b[0m\u001b[34m─╮\u001b[0m\n",
              "\u001b[34m│\u001b[0m \u001b[3;96mdef \u001b[0m\u001b[1m(\u001b[0m*args, **kwargs\u001b[1m)\u001b[0m:                                                         \u001b[34m│\u001b[0m\n",
              "\u001b[34m│\u001b[0m                                                                                \u001b[34m│\u001b[0m\n",
              "\u001b[34m│\u001b[0m \u001b[3;33mcall_super_init\u001b[0m = \u001b[3;91mFalse\u001b[0m                                                        \u001b[34m│\u001b[0m\n",
              "\u001b[34m│\u001b[0m    \u001b[3;33mdump_patches\u001b[0m = \u001b[3;91mFalse\u001b[0m                                                        \u001b[34m│\u001b[0m\n",
              "\u001b[34m│\u001b[0m   \u001b[3;33mT_destination\u001b[0m = ~T_destination                                               \u001b[34m│\u001b[0m\n",
              "\u001b[34m│\u001b[0m        \u001b[3;33mtraining\u001b[0m = \u001b[3;91mFalse\u001b[0m                                                        \u001b[34m│\u001b[0m\n",
              "\u001b[34m│\u001b[0m              \u001b[3;33mw0\u001b[0m = Parameter containing:                                        \u001b[34m│\u001b[0m\n",
              "\u001b[34m│\u001b[0m                   \u001b[1;35mtensor\u001b[0m\u001b[1m(\u001b[0m\u001b[1m[\u001b[0m\u001b[1;36m0.0852\u001b[0m\u001b[1m]\u001b[0m, \u001b[33mrequires_grad\u001b[0m=\u001b[3;92mTrue\u001b[0m\u001b[1m)\u001b[0m                         \u001b[34m│\u001b[0m\n",
              "\u001b[34m╰────────────────────────────────────────────────────────────────────────────────╯\u001b[0m\n"
            ]
          },
          "metadata": {},
          "output_type": "display_data"
        }
      ],
      "source": [
        "inspect(model)"
      ]
    },
    {
      "cell_type": "code",
      "execution_count": 47,
      "metadata": {},
      "outputs": [],
      "source": [
        "model = torch.load(\"../models/recommender_1_m.pt\")"
      ]
    },
    {
      "cell_type": "code",
      "execution_count": null,
      "metadata": {},
      "outputs": [],
      "source": []
    }
  ],
  "metadata": {
    "accelerator": "GPU",
    "colab": {
      "gpuType": "T4",
      "provenance": []
    },
    "kernelspec": {
      "display_name": "DL_torch",
      "language": "python",
      "name": "python3"
    },
    "language_info": {
      "codemirror_mode": {
        "name": "ipython",
        "version": 3
      },
      "file_extension": ".py",
      "mimetype": "text/x-python",
      "name": "python",
      "nbconvert_exporter": "python",
      "pygments_lexer": "ipython3",
      "version": "3.11.3"
    }
  },
  "nbformat": 4,
  "nbformat_minor": 0
}
